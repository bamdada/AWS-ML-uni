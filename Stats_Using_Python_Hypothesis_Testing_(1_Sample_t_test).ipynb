{
  "nbformat": 4,
  "nbformat_minor": 0,
  "metadata": {
    "colab": {
      "provenance": [],
      "include_colab_link": true
    },
    "kernelspec": {
      "name": "python3",
      "display_name": "Python 3"
    }
  },
  "cells": [
    {
      "cell_type": "markdown",
      "metadata": {
        "id": "view-in-github",
        "colab_type": "text"
      },
      "source": [
        "<a href=\"https://colab.research.google.com/github/bamdada/AWS-ML-uni/blob/master/Stats_Using_Python_Hypothesis_Testing_(1_Sample_t_test).ipynb\" target=\"_parent\"><img src=\"https://colab.research.google.com/assets/colab-badge.svg\" alt=\"Open In Colab\"/></a>"
      ]
    },
    {
      "cell_type": "markdown",
      "metadata": {
        "id": "YuVRLK0o6VCn"
      },
      "source": [
        "# **Hypothesis Testing Example** -- Energy Costs\n",
        "\n",
        "You work on a political campaign and support an incumbent.  You want to debunk a claim from a rival that energy costs went up in the last year. (Last year, the average monthly energy bill was $200.) You randomly sample 25 families and record their energy costs for the current year.  You will use a **1-sample t-test**, since you will study one sample mean's against a target (last year's monthly energy costs)."
      ]
    },
    {
      "cell_type": "markdown",
      "metadata": {
        "id": "BRI14DGEJEv-"
      },
      "source": [
        "### Import Python Libraries\n",
        "\n",
        "Python libraries help to extend the Python programming language -- or to help make our tasks easier.  There are *lots* of Python libraries and they do *lots* of different things.  For our purposes, we will import **\"pandas\"** to load and manipulate data, **\"seaborn\"** for visualization, and **\"scipy\"** for statistics."
      ]
    },
    {
      "cell_type": "code",
      "metadata": {
        "id": "K62j_oXrbyUZ"
      },
      "source": [
        "# Import the appropriate Python libraries.\n",
        "import pandas as pd\n",
        "import seaborn as sns\n",
        "from scipy import stats"
      ],
      "execution_count": null,
      "outputs": []
    },
    {
      "cell_type": "markdown",
      "metadata": {
        "id": "FGyIieAQJOfz"
      },
      "source": [
        "### Load Data (Option #1)\n",
        "\n",
        "One of the biggest challenges that people run into with Google Colab is loading data.  For simplicity, our dataset from this example has already been stored in the cloud on Github.  (We also used a URL shortener to make it easier to type.)  To see what this file looks like, you can copy the following link (http://bit.ly/energy_bills) and paste into your browser window.  Another option for loading your data is from your own hard drive.  (See option #2 below.)"
      ]
    },
    {
      "cell_type": "code",
      "metadata": {
        "id": "OwAnGq61bc4W"
      },
      "source": [
        "# Load the CSV file into a dataframe.\n",
        "df_energy = pd.read_csv('http://bit.ly/energy_bills')"
      ],
      "execution_count": null,
      "outputs": []
    },
    {
      "cell_type": "markdown",
      "metadata": {
        "id": "Jm9_GyFtKd2V"
      },
      "source": [
        "### Load Data (Option #2)\n",
        "\n",
        "You can also load data into Google Colab from your own computer.  To do so, once you have the file downloaded from [here](https://drive.google.com/file/d/15vSkbWLPTjnof4qT1b0Q6az3o69rbiRQ/view?usp=sharing), (1) run the next cell to select where the file is located on your hard drive and (2) run the cell after to load the CSV file into a dataframe.  (Ensure that the name of the file is spelled correctly in the second cell below.)"
      ]
    },
    {
      "cell_type": "code",
      "metadata": {
        "id": "S4VXUbx_KqBp"
      },
      "source": [
        "# Select where data file is located on our local drive.\n",
        "from google.colab import files\n",
        "uploaded = files.upload()"
      ],
      "execution_count": null,
      "outputs": []
    },
    {
      "cell_type": "code",
      "metadata": {
        "id": "3O4D4P4vKqrK"
      },
      "source": [
        "# Load the CSV file into a dataframe.\n",
        "import io\n",
        "df_energy = pd.read_csv(io.BytesIO(uploaded['energy_data.csv']))"
      ],
      "execution_count": null,
      "outputs": []
    },
    {
      "cell_type": "markdown",
      "metadata": {
        "id": "9XBHGp0fRmj_"
      },
      "source": [
        "### Explore the Data\n",
        "\n",
        "As we explore the data, we will use the **\"head\"** function to preview the first few records.  Then, we'll use **\"describe\"** to calculate descriptive statistics and **seaborn** to generate a histogram of energy costs."
      ]
    },
    {
      "cell_type": "code",
      "metadata": {
        "id": "6chYWYZSb7li",
        "colab": {
          "base_uri": "https://localhost:8080/",
          "height": 206
        },
        "outputId": "2f79354e-a5dc-4175-ee4c-19acd11ee60f"
      },
      "source": [
        "# Preview the first few records of data.\n",
        "df_energy.head()"
      ],
      "execution_count": null,
      "outputs": [
        {
          "output_type": "execute_result",
          "data": {
            "text/plain": [
              "   Family ID  Energy Cost\n",
              "0          1          211\n",
              "1          2          572\n",
              "2          3          558\n",
              "3          4          250\n",
              "4          5          478"
            ],
            "text/html": [
              "\n",
              "  <div id=\"df-04891e0e-b85c-40a8-8f7f-eeeb47695650\">\n",
              "    <div class=\"colab-df-container\">\n",
              "      <div>\n",
              "<style scoped>\n",
              "    .dataframe tbody tr th:only-of-type {\n",
              "        vertical-align: middle;\n",
              "    }\n",
              "\n",
              "    .dataframe tbody tr th {\n",
              "        vertical-align: top;\n",
              "    }\n",
              "\n",
              "    .dataframe thead th {\n",
              "        text-align: right;\n",
              "    }\n",
              "</style>\n",
              "<table border=\"1\" class=\"dataframe\">\n",
              "  <thead>\n",
              "    <tr style=\"text-align: right;\">\n",
              "      <th></th>\n",
              "      <th>Family ID</th>\n",
              "      <th>Energy Cost</th>\n",
              "    </tr>\n",
              "  </thead>\n",
              "  <tbody>\n",
              "    <tr>\n",
              "      <th>0</th>\n",
              "      <td>1</td>\n",
              "      <td>211</td>\n",
              "    </tr>\n",
              "    <tr>\n",
              "      <th>1</th>\n",
              "      <td>2</td>\n",
              "      <td>572</td>\n",
              "    </tr>\n",
              "    <tr>\n",
              "      <th>2</th>\n",
              "      <td>3</td>\n",
              "      <td>558</td>\n",
              "    </tr>\n",
              "    <tr>\n",
              "      <th>3</th>\n",
              "      <td>4</td>\n",
              "      <td>250</td>\n",
              "    </tr>\n",
              "    <tr>\n",
              "      <th>4</th>\n",
              "      <td>5</td>\n",
              "      <td>478</td>\n",
              "    </tr>\n",
              "  </tbody>\n",
              "</table>\n",
              "</div>\n",
              "      <button class=\"colab-df-convert\" onclick=\"convertToInteractive('df-04891e0e-b85c-40a8-8f7f-eeeb47695650')\"\n",
              "              title=\"Convert this dataframe to an interactive table.\"\n",
              "              style=\"display:none;\">\n",
              "        \n",
              "  <svg xmlns=\"http://www.w3.org/2000/svg\" height=\"24px\"viewBox=\"0 0 24 24\"\n",
              "       width=\"24px\">\n",
              "    <path d=\"M0 0h24v24H0V0z\" fill=\"none\"/>\n",
              "    <path d=\"M18.56 5.44l.94 2.06.94-2.06 2.06-.94-2.06-.94-.94-2.06-.94 2.06-2.06.94zm-11 1L8.5 8.5l.94-2.06 2.06-.94-2.06-.94L8.5 2.5l-.94 2.06-2.06.94zm10 10l.94 2.06.94-2.06 2.06-.94-2.06-.94-.94-2.06-.94 2.06-2.06.94z\"/><path d=\"M17.41 7.96l-1.37-1.37c-.4-.4-.92-.59-1.43-.59-.52 0-1.04.2-1.43.59L10.3 9.45l-7.72 7.72c-.78.78-.78 2.05 0 2.83L4 21.41c.39.39.9.59 1.41.59.51 0 1.02-.2 1.41-.59l7.78-7.78 2.81-2.81c.8-.78.8-2.07 0-2.86zM5.41 20L4 18.59l7.72-7.72 1.47 1.35L5.41 20z\"/>\n",
              "  </svg>\n",
              "      </button>\n",
              "      \n",
              "  <style>\n",
              "    .colab-df-container {\n",
              "      display:flex;\n",
              "      flex-wrap:wrap;\n",
              "      gap: 12px;\n",
              "    }\n",
              "\n",
              "    .colab-df-convert {\n",
              "      background-color: #E8F0FE;\n",
              "      border: none;\n",
              "      border-radius: 50%;\n",
              "      cursor: pointer;\n",
              "      display: none;\n",
              "      fill: #1967D2;\n",
              "      height: 32px;\n",
              "      padding: 0 0 0 0;\n",
              "      width: 32px;\n",
              "    }\n",
              "\n",
              "    .colab-df-convert:hover {\n",
              "      background-color: #E2EBFA;\n",
              "      box-shadow: 0px 1px 2px rgba(60, 64, 67, 0.3), 0px 1px 3px 1px rgba(60, 64, 67, 0.15);\n",
              "      fill: #174EA6;\n",
              "    }\n",
              "\n",
              "    [theme=dark] .colab-df-convert {\n",
              "      background-color: #3B4455;\n",
              "      fill: #D2E3FC;\n",
              "    }\n",
              "\n",
              "    [theme=dark] .colab-df-convert:hover {\n",
              "      background-color: #434B5C;\n",
              "      box-shadow: 0px 1px 3px 1px rgba(0, 0, 0, 0.15);\n",
              "      filter: drop-shadow(0px 1px 2px rgba(0, 0, 0, 0.3));\n",
              "      fill: #FFFFFF;\n",
              "    }\n",
              "  </style>\n",
              "\n",
              "      <script>\n",
              "        const buttonEl =\n",
              "          document.querySelector('#df-04891e0e-b85c-40a8-8f7f-eeeb47695650 button.colab-df-convert');\n",
              "        buttonEl.style.display =\n",
              "          google.colab.kernel.accessAllowed ? 'block' : 'none';\n",
              "\n",
              "        async function convertToInteractive(key) {\n",
              "          const element = document.querySelector('#df-04891e0e-b85c-40a8-8f7f-eeeb47695650');\n",
              "          const dataTable =\n",
              "            await google.colab.kernel.invokeFunction('convertToInteractive',\n",
              "                                                     [key], {});\n",
              "          if (!dataTable) return;\n",
              "\n",
              "          const docLinkHtml = 'Like what you see? Visit the ' +\n",
              "            '<a target=\"_blank\" href=https://colab.research.google.com/notebooks/data_table.ipynb>data table notebook</a>'\n",
              "            + ' to learn more about interactive tables.';\n",
              "          element.innerHTML = '';\n",
              "          dataTable['output_type'] = 'display_data';\n",
              "          await google.colab.output.renderOutput(dataTable, element);\n",
              "          const docLink = document.createElement('div');\n",
              "          docLink.innerHTML = docLinkHtml;\n",
              "          element.appendChild(docLink);\n",
              "        }\n",
              "      </script>\n",
              "    </div>\n",
              "  </div>\n",
              "  "
            ]
          },
          "metadata": {},
          "execution_count": 3
        }
      ]
    },
    {
      "cell_type": "code",
      "metadata": {
        "id": "szcqgdeBbwOR",
        "colab": {
          "base_uri": "https://localhost:8080/",
          "height": 300
        },
        "outputId": "9e7e6873-bf6b-441b-be8f-2f7bb56a4ce6"
      },
      "source": [
        "# Generate descriptive stats.\n",
        "df_energy.describe()"
      ],
      "execution_count": null,
      "outputs": [
        {
          "output_type": "execute_result",
          "data": {
            "text/plain": [
              "       Family ID  Energy Cost\n",
              "count  25.000000    25.000000\n",
              "mean   13.000000   330.560000\n",
              "std     7.359801   154.177679\n",
              "min     1.000000    77.000000\n",
              "25%     7.000000   205.000000\n",
              "50%    13.000000   320.000000\n",
              "75%    19.000000   435.000000\n",
              "max    25.000000   676.000000"
            ],
            "text/html": [
              "\n",
              "  <div id=\"df-15e277b1-893d-4984-bb4d-4cdd46b81777\">\n",
              "    <div class=\"colab-df-container\">\n",
              "      <div>\n",
              "<style scoped>\n",
              "    .dataframe tbody tr th:only-of-type {\n",
              "        vertical-align: middle;\n",
              "    }\n",
              "\n",
              "    .dataframe tbody tr th {\n",
              "        vertical-align: top;\n",
              "    }\n",
              "\n",
              "    .dataframe thead th {\n",
              "        text-align: right;\n",
              "    }\n",
              "</style>\n",
              "<table border=\"1\" class=\"dataframe\">\n",
              "  <thead>\n",
              "    <tr style=\"text-align: right;\">\n",
              "      <th></th>\n",
              "      <th>Family ID</th>\n",
              "      <th>Energy Cost</th>\n",
              "    </tr>\n",
              "  </thead>\n",
              "  <tbody>\n",
              "    <tr>\n",
              "      <th>count</th>\n",
              "      <td>25.000000</td>\n",
              "      <td>25.000000</td>\n",
              "    </tr>\n",
              "    <tr>\n",
              "      <th>mean</th>\n",
              "      <td>13.000000</td>\n",
              "      <td>330.560000</td>\n",
              "    </tr>\n",
              "    <tr>\n",
              "      <th>std</th>\n",
              "      <td>7.359801</td>\n",
              "      <td>154.177679</td>\n",
              "    </tr>\n",
              "    <tr>\n",
              "      <th>min</th>\n",
              "      <td>1.000000</td>\n",
              "      <td>77.000000</td>\n",
              "    </tr>\n",
              "    <tr>\n",
              "      <th>25%</th>\n",
              "      <td>7.000000</td>\n",
              "      <td>205.000000</td>\n",
              "    </tr>\n",
              "    <tr>\n",
              "      <th>50%</th>\n",
              "      <td>13.000000</td>\n",
              "      <td>320.000000</td>\n",
              "    </tr>\n",
              "    <tr>\n",
              "      <th>75%</th>\n",
              "      <td>19.000000</td>\n",
              "      <td>435.000000</td>\n",
              "    </tr>\n",
              "    <tr>\n",
              "      <th>max</th>\n",
              "      <td>25.000000</td>\n",
              "      <td>676.000000</td>\n",
              "    </tr>\n",
              "  </tbody>\n",
              "</table>\n",
              "</div>\n",
              "      <button class=\"colab-df-convert\" onclick=\"convertToInteractive('df-15e277b1-893d-4984-bb4d-4cdd46b81777')\"\n",
              "              title=\"Convert this dataframe to an interactive table.\"\n",
              "              style=\"display:none;\">\n",
              "        \n",
              "  <svg xmlns=\"http://www.w3.org/2000/svg\" height=\"24px\"viewBox=\"0 0 24 24\"\n",
              "       width=\"24px\">\n",
              "    <path d=\"M0 0h24v24H0V0z\" fill=\"none\"/>\n",
              "    <path d=\"M18.56 5.44l.94 2.06.94-2.06 2.06-.94-2.06-.94-.94-2.06-.94 2.06-2.06.94zm-11 1L8.5 8.5l.94-2.06 2.06-.94-2.06-.94L8.5 2.5l-.94 2.06-2.06.94zm10 10l.94 2.06.94-2.06 2.06-.94-2.06-.94-.94-2.06-.94 2.06-2.06.94z\"/><path d=\"M17.41 7.96l-1.37-1.37c-.4-.4-.92-.59-1.43-.59-.52 0-1.04.2-1.43.59L10.3 9.45l-7.72 7.72c-.78.78-.78 2.05 0 2.83L4 21.41c.39.39.9.59 1.41.59.51 0 1.02-.2 1.41-.59l7.78-7.78 2.81-2.81c.8-.78.8-2.07 0-2.86zM5.41 20L4 18.59l7.72-7.72 1.47 1.35L5.41 20z\"/>\n",
              "  </svg>\n",
              "      </button>\n",
              "      \n",
              "  <style>\n",
              "    .colab-df-container {\n",
              "      display:flex;\n",
              "      flex-wrap:wrap;\n",
              "      gap: 12px;\n",
              "    }\n",
              "\n",
              "    .colab-df-convert {\n",
              "      background-color: #E8F0FE;\n",
              "      border: none;\n",
              "      border-radius: 50%;\n",
              "      cursor: pointer;\n",
              "      display: none;\n",
              "      fill: #1967D2;\n",
              "      height: 32px;\n",
              "      padding: 0 0 0 0;\n",
              "      width: 32px;\n",
              "    }\n",
              "\n",
              "    .colab-df-convert:hover {\n",
              "      background-color: #E2EBFA;\n",
              "      box-shadow: 0px 1px 2px rgba(60, 64, 67, 0.3), 0px 1px 3px 1px rgba(60, 64, 67, 0.15);\n",
              "      fill: #174EA6;\n",
              "    }\n",
              "\n",
              "    [theme=dark] .colab-df-convert {\n",
              "      background-color: #3B4455;\n",
              "      fill: #D2E3FC;\n",
              "    }\n",
              "\n",
              "    [theme=dark] .colab-df-convert:hover {\n",
              "      background-color: #434B5C;\n",
              "      box-shadow: 0px 1px 3px 1px rgba(0, 0, 0, 0.15);\n",
              "      filter: drop-shadow(0px 1px 2px rgba(0, 0, 0, 0.3));\n",
              "      fill: #FFFFFF;\n",
              "    }\n",
              "  </style>\n",
              "\n",
              "      <script>\n",
              "        const buttonEl =\n",
              "          document.querySelector('#df-15e277b1-893d-4984-bb4d-4cdd46b81777 button.colab-df-convert');\n",
              "        buttonEl.style.display =\n",
              "          google.colab.kernel.accessAllowed ? 'block' : 'none';\n",
              "\n",
              "        async function convertToInteractive(key) {\n",
              "          const element = document.querySelector('#df-15e277b1-893d-4984-bb4d-4cdd46b81777');\n",
              "          const dataTable =\n",
              "            await google.colab.kernel.invokeFunction('convertToInteractive',\n",
              "                                                     [key], {});\n",
              "          if (!dataTable) return;\n",
              "\n",
              "          const docLinkHtml = 'Like what you see? Visit the ' +\n",
              "            '<a target=\"_blank\" href=https://colab.research.google.com/notebooks/data_table.ipynb>data table notebook</a>'\n",
              "            + ' to learn more about interactive tables.';\n",
              "          element.innerHTML = '';\n",
              "          dataTable['output_type'] = 'display_data';\n",
              "          await google.colab.output.renderOutput(dataTable, element);\n",
              "          const docLink = document.createElement('div');\n",
              "          docLink.innerHTML = docLinkHtml;\n",
              "          element.appendChild(docLink);\n",
              "        }\n",
              "      </script>\n",
              "    </div>\n",
              "  </div>\n",
              "  "
            ]
          },
          "metadata": {},
          "execution_count": 4
        }
      ]
    },
    {
      "cell_type": "code",
      "source": [
        "# Generate a histogram of \"energy cost\".\n",
        "sns.displot(df_energy, x=\"Energy Cost\");"
      ],
      "metadata": {
        "colab": {
          "base_uri": "https://localhost:8080/",
          "height": 369
        },
        "id": "GtgPfnZhWB3l",
        "outputId": "b7cbfbe0-34eb-4de0-9df3-62b429ca164e"
      },
      "execution_count": null,
      "outputs": [
        {
          "output_type": "display_data",
          "data": {
            "text/plain": [
              "<Figure size 360x360 with 1 Axes>"
            ],
            "image/png": "[encoded data removed]"
          },
          "metadata": {
            "needs_background": "light"
          }
        }
      ]
    },
    {
      "cell_type": "markdown",
      "metadata": {
        "id": "U-GybiZ2VIHo"
      },
      "source": [
        "### Perform a Normality Test\n",
        "\n",
        "Prior to performing a hypothesis test, we perform a normality test.  It helps us understand what hypothesis test would be appropriate.  After conducting this test, if the *p-value* is greater than 0.05, the data is normal enough for our purposes.  **Based on the result below, we assume the data is normal.**"
      ]
    },
    {
      "cell_type": "code",
      "metadata": {
        "id": "memzkj9EWt52",
        "colab": {
          "base_uri": "https://localhost:8080/"
        },
        "outputId": "5285ab16-fcfa-42e1-b0e5-a9e2f631c0aa"
      },
      "source": [
        "# Peform a normality test.\n",
        "stats.normaltest(df_energy['Energy Cost'])"
      ],
      "execution_count": null,
      "outputs": [
        {
          "output_type": "execute_result",
          "data": {
            "text/plain": [
              "NormaltestResult(statistic=0.9090006917845799, pvalue=0.6347650516910424)"
            ]
          },
          "metadata": {},
          "execution_count": 6
        }
      ]
    },
    {
      "cell_type": "markdown",
      "metadata": {
        "id": "0-E3b3KVVcQF"
      },
      "source": [
        "### Perform a 1-sample t-test\n",
        "\n",
        "When we conduct this hypothesis test, if the p-value is > 0.05, we \"fail to reject the null\" and assume no differences between the sample and a target.  When the p-value is < 0.05, we \"reject the null\" and state there is a difference.  **Based on the result below, we reject the null.  Energy costs did change, and based on the descriptive stats above (the average monthly cost in the sample was $330), energy costs did go up!**"
      ]
    },
    {
      "cell_type": "code",
      "metadata": {
        "id": "Im0ModI5W4vM",
        "colab": {
          "base_uri": "https://localhost:8080/"
        },
        "outputId": "54c5c341-bd44-464a-b12f-551e2a0a49c8"
      },
      "source": [
        "# Perform a 1-sample t-test.\n",
        "stats.ttest_1samp(df_energy['Energy Cost'], 200)"
      ],
      "execution_count": null,
      "outputs": [
        {
          "output_type": "execute_result",
          "data": {
            "text/plain": [
              "Ttest_1sampResult(statistic=4.234075935744192, pvalue=0.0002911970792752857)"
            ]
          },
          "metadata": {},
          "execution_count": 7
        }
      ]
    }
  ]
}