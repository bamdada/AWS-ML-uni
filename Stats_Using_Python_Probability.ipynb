{
  "nbformat": 4,
  "nbformat_minor": 0,
  "metadata": {
    "colab": {
      "provenance": [],
      "include_colab_link": true
    },
    "kernelspec": {
      "name": "python3",
      "display_name": "Python 3"
    },
    "language_info": {
      "name": "python"
    }
  },
  "cells": [
    {
      "cell_type": "markdown",
      "metadata": {
        "id": "view-in-github",
        "colab_type": "text"
      },
      "source": [
        "<a href=\"https://colab.research.google.com/github/bamdada/AWS-ML-uni/blob/master/Stats_Using_Python_Probability.ipynb\" target=\"_parent\"><img src=\"https://colab.research.google.com/assets/colab-badge.svg\" alt=\"Open In Colab\"/></a>"
      ]
    },
    {
      "cell_type": "markdown",
      "source": [
        "# Probability using Python\n",
        "\n",
        "**Probability quantifies the likelihood of an event -- like tossing a coin and landing on heads.**  In this notebook, we use Python to assist in probability calculations."
      ],
      "metadata": {
        "id": "DX7maPyITiQh"
      }
    },
    {
      "cell_type": "code",
      "source": [
        "# Import SciPy to assist with our probability calculations.\n",
        "from scipy import stats"
      ],
      "metadata": {
        "id": "JVCaJ2Jajxo6"
      },
      "execution_count": null,
      "outputs": []
    },
    {
      "cell_type": "markdown",
      "source": [
        "### Binomial Distribution (Discrete)\n",
        "\n",
        "**The probability of a specific # of “successes” in a specific # of independent trials.**  For example, the likelihood of 10 wins (\"successes\") in 15 basketball games."
      ],
      "metadata": {
        "id": "HzIq1bwhn2yB"
      }
    },
    {
      "cell_type": "code",
      "execution_count": null,
      "metadata": {
        "id": "DWPluxZlhV7z"
      },
      "outputs": [],
      "source": [
        "# EXAMPLE: The # of returns (\"successes\") when shipping 250 orders.\n",
        "# Create a binomial random variable (X).\n",
        "# We have 250 trials with a 3% chance of return for each order.\n",
        "X = stats.binom(250, 0.03)"
      ]
    },
    {
      "cell_type": "code",
      "source": [
        "# The likelihood of 15 returns in 250 orders.\n",
        "# PMF stands for probability mass function.\n",
        "X.pmf(15)"
      ],
      "metadata": {
        "colab": {
          "base_uri": "https://localhost:8080/"
        },
        "id": "mbVqYWG4cM_S",
        "outputId": "94b787a6-49e9-45b4-bc3b-42a4ecc445d9"
      },
      "execution_count": null,
      "outputs": [
        {
          "output_type": "execute_result",
          "data": {
            "text/plain": [
              "0.005184906161357239"
            ]
          },
          "metadata": {},
          "execution_count": 7
        }
      ]
    },
    {
      "cell_type": "code",
      "source": [
        "# The likelihood of 15 or fewer returns in 250 orders. \n",
        "# CDF stands for cumulative density function.\n",
        "X.cdf(15)"
      ],
      "metadata": {
        "colab": {
          "base_uri": "https://localhost:8080/"
        },
        "id": "OpJ7AWZmcNkb",
        "outputId": "cec196d4-a4cf-402d-a0d7-64b0f81f5c49"
      },
      "execution_count": null,
      "outputs": [
        {
          "output_type": "execute_result",
          "data": {
            "text/plain": [
              "0.9960081412458559"
            ]
          },
          "metadata": {},
          "execution_count": 8
        }
      ]
    },
    {
      "cell_type": "code",
      "source": [
        "# The likelihood of more than 15 returns in 250 orders. \n",
        "1 - X.cdf(15)"
      ],
      "metadata": {
        "colab": {
          "base_uri": "https://localhost:8080/"
        },
        "id": "3mCPPTt6cNmz",
        "outputId": "505ca129-0183-482e-d742-deb7f313fc01"
      },
      "execution_count": null,
      "outputs": [
        {
          "output_type": "execute_result",
          "data": {
            "text/plain": [
              "0.003991858754144095"
            ]
          },
          "metadata": {},
          "execution_count": 9
        }
      ]
    },
    {
      "cell_type": "code",
      "source": [
        "# The likelihood of between 10 and 15 returns in 250 orders. \n",
        "# Note the use of 9 instead of 10 in the second calculation.\n",
        "X.cdf(15) - X.cdf(9)"
      ],
      "metadata": {
        "colab": {
          "base_uri": "https://localhost:8080/"
        },
        "id": "oBeDWk35cnH5",
        "outputId": "c25943c3-69eb-4b45-e745-4ad512b21124"
      },
      "execution_count": null,
      "outputs": [
        {
          "output_type": "execute_result",
          "data": {
            "text/plain": [
              "0.2169603188955156"
            ]
          },
          "metadata": {},
          "execution_count": 10
        }
      ]
    },
    {
      "cell_type": "markdown",
      "source": [
        "### Poisson Distribution (Discrete)\n",
        "\n",
        "**The probability that an event will occur a specific number of times over a given period.**  For example, the likelihood of 50 service calls in the next hour."
      ],
      "metadata": {
        "id": "8rVLG7GWoCMg"
      }
    },
    {
      "cell_type": "code",
      "source": [
        "# EXAMPLE: The likelihood of 50 service calls in the next hour.\n",
        "# Create a Poisson random variable (Y).\n",
        "# The average is 40 calls per hour.\n",
        "Y = stats.poisson(40)"
      ],
      "metadata": {
        "id": "aYp1v-adk6Mi"
      },
      "execution_count": null,
      "outputs": []
    },
    {
      "cell_type": "code",
      "source": [
        "# The probability of exactly 50 calls in the next hour.\n",
        "Y.pmf(50)"
      ],
      "metadata": {
        "colab": {
          "base_uri": "https://localhost:8080/"
        },
        "id": "6qWC0sKjeQ3p",
        "outputId": "82be6d85-8a21-4ff3-e44d-8c456353b5b6"
      },
      "execution_count": null,
      "outputs": [
        {
          "output_type": "execute_result",
          "data": {
            "text/plain": [
              "0.01770701755263633"
            ]
          },
          "metadata": {},
          "execution_count": 12
        }
      ]
    },
    {
      "cell_type": "code",
      "source": [
        "# The probability of 50 or fewer calls in the next hour.\n",
        "Y.cdf(50)"
      ],
      "metadata": {
        "colab": {
          "base_uri": "https://localhost:8080/"
        },
        "id": "LIogn0KseRnR",
        "outputId": "d512100a-260e-485a-d63e-4e2d25111cbc"
      },
      "execution_count": null,
      "outputs": [
        {
          "output_type": "execute_result",
          "data": {
            "text/plain": [
              "0.9473719508932413"
            ]
          },
          "metadata": {},
          "execution_count": 13
        }
      ]
    },
    {
      "cell_type": "code",
      "source": [
        "# The probability of more than 50 calls in the next hour.\n",
        "1 - Y.cdf(50)"
      ],
      "metadata": {
        "colab": {
          "base_uri": "https://localhost:8080/"
        },
        "id": "EU-m5seSeRsz",
        "outputId": "e3c7c3ff-bba4-49d7-ae85-085c169ced2a"
      },
      "execution_count": null,
      "outputs": [
        {
          "output_type": "execute_result",
          "data": {
            "text/plain": [
              "0.05262804910675867"
            ]
          },
          "metadata": {},
          "execution_count": 14
        }
      ]
    },
    {
      "cell_type": "markdown",
      "source": [
        "### Normal Distribution (Continuous)\n",
        "\n",
        "**The most common probability distribution for continuous data.**  It appears as a \"bell curve”.  Lots of things in our world approximate a normal distribution: heights of people, sizes of manufactured parts, returns in the stock market, etc."
      ],
      "metadata": {
        "id": "Ri53zVG_oIyD"
      }
    },
    {
      "cell_type": "code",
      "source": [
        "# EXAMPLE: The likelihood that a part will be a certain width.\n",
        "\n",
        "# Create a normal random variable (A).\n",
        "# The mean is 8.  The standard deviation is 0.2.\n",
        "A = stats.norm(8, 0.2)"
      ],
      "metadata": {
        "id": "AFAp2l-Rk9o7"
      },
      "execution_count": null,
      "outputs": []
    },
    {
      "cell_type": "code",
      "source": [
        "# The probability of a part measuring 8.5 or less.\n",
        "A.cdf(8.5)"
      ],
      "metadata": {
        "colab": {
          "base_uri": "https://localhost:8080/"
        },
        "id": "B-avXLgYe5Vd",
        "outputId": "467c432c-8ea0-4721-a4ee-476e0504c8c0"
      },
      "execution_count": null,
      "outputs": [
        {
          "output_type": "execute_result",
          "data": {
            "text/plain": [
              "0.9937903346742238"
            ]
          },
          "metadata": {},
          "execution_count": 16
        }
      ]
    },
    {
      "cell_type": "code",
      "source": [
        "# The probability of a part measuring more than 8.5.\n",
        "1 - A.cdf(8.5)"
      ],
      "metadata": {
        "colab": {
          "base_uri": "https://localhost:8080/"
        },
        "id": "WzE2QpyLe5Xo",
        "outputId": "4df72906-098a-40b4-ff20-6095f50e4db4"
      },
      "execution_count": null,
      "outputs": [
        {
          "output_type": "execute_result",
          "data": {
            "text/plain": [
              "0.006209665325776159"
            ]
          },
          "metadata": {},
          "execution_count": 17
        }
      ]
    },
    {
      "cell_type": "code",
      "source": [
        "# The probability of a part measuring between 7.9 and 8.1.\n",
        "A.cdf(8.1) - A.cdf(7.9)"
      ],
      "metadata": {
        "colab": {
          "base_uri": "https://localhost:8080/"
        },
        "id": "uOPSjpoZe5aJ",
        "outputId": "b59d4fc7-ed0f-4dbe-b80f-2afc491ef7a6"
      },
      "execution_count": null,
      "outputs": [
        {
          "output_type": "execute_result",
          "data": {
            "text/plain": [
              "0.3829249225480249"
            ]
          },
          "metadata": {},
          "execution_count": 18
        }
      ]
    }
  ]
}